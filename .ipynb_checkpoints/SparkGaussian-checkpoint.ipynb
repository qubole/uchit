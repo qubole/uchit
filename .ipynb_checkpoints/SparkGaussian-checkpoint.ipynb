{
 "cells": [
  {
   "cell_type": "code",
   "execution_count": 1,
   "metadata": {},
   "outputs": [],
   "source": [
    "from spark.spark_tuner import SparkTuner\n",
    "from spark.config.config_set import UniversalConfigSet\n",
    "from spark.config.config_set import ConfigSet\n",
    "from spark.config.parameter import Parameter\n",
    "from spark.config.domain import IntRangeDomain"
   ]
  },
  {
   "cell_type": "code",
   "execution_count": 2,
   "metadata": {},
   "outputs": [
    {
     "data": {
      "text/plain": [
       "OrderedDict([('spark.sql.shuffle.partitions', 1610.0),\n",
       "             ('spark.executor.memory', 9113.0),\n",
       "             ('spark.driver.memory', 1024.0),\n",
       "             ('spark.executor.cores', 7.0)])"
      ]
     },
     "execution_count": 2,
     "metadata": {},
     "output_type": "execute_result"
    }
   ],
   "source": [
    "config_set = UniversalConfigSet(10, 1024 * 10)\n",
    "tuner = SparkTuner(config_set)\n",
    "\n",
    "training_sample_1 = {\n",
    "    \"spark.executor.memory\": 1024 * 5,\n",
    "    \"spark.sql.shuffle.partitions\": 100,\n",
    "    \"spark.executor.cores\": 4,\n",
    "    \"spark.driver.memory\": 1024\n",
    "}\n",
    "training_sample_2 = {\n",
    "    \"spark.executor.memory\": 1024 * 10,\n",
    "    \"spark.sql.shuffle.partitions\": 400,\n",
    "    \"spark.executor.cores\": 8,\n",
    "    \"spark.driver.memory\": 1024 * 3\n",
    "}\n",
    "\n",
    "tuner.add_sample_to_train_data(training_sample_1, 12)\n",
    "tuner.add_sample_to_train_data(training_sample_2, 4)\n",
    "\n",
    "tuner.get_next_best_config()\n"
   ]
  },
  {
   "cell_type": "code",
   "execution_count": null,
   "metadata": {},
   "outputs": [],
   "source": []
  },
  {
   "cell_type": "markdown",
   "metadata": {},
   "source": [
    "### Example with TPC-DS Q17\n",
    "\n",
    "\n",
    "|conf|value|\n",
    "|:-|:-|\n",
    "|spark.driver.memory|2g|\n",
    "|spark.executor.cores|3|\n",
    "|spark.executor.memory|2g|\n",
    "|spark.sql.shuffle.partitions|400|\n",
    "\n",
    "\n",
    "<h5 align=\"center\">Timing for the query: q17 - 806750 </h5>\n",
    "\n",
    "================================================================================================================================================\n",
    "<br>\n",
    "\n",
    "\n",
    "|conf|value|\n",
    "|:-|:-|\n",
    "|spark.driver.memory|4g|\n",
    "|spark.executor.cores|8|\n",
    "|spark.executor.memory|5g|\n",
    "|spark.sql.shuffle.partitions|600|\n",
    "\n",
    "\n",
    "<h4 align=\"center\">Timing for the query: q17 - 1191319 </h4> \n",
    "\n",
    "================================================================================================================================================\n",
    "<br>\n",
    "\n",
    "\n",
    "|conf|value|\n",
    "|:-|:-|\n",
    "|spark.driver.memory|1g|\n",
    "|spark.executor.cores|2|\n",
    "|spark.executor.memory|2g|\n",
    "|spark.sql.shuffle.partitions|100|\n",
    "\n",
    "\n",
    "<h4 align=\"center\">Timing for the query: q17 - 1138390 </h4> \n"
   ]
  },
  {
   "cell_type": "code",
   "execution_count": 4,
   "metadata": {},
   "outputs": [],
   "source": [
    "# config_set = UniversalConfigSet(20, 152500)\n",
    "config_set = ConfigSet()\n",
    "config_set.add_param(Parameter('spark.sql.shuffle.partitions', IntRangeDomain(10, 2000, 50)))\\\n",
    "    .add_param(Parameter('spark.executor.memory',\n",
    "                         IntRangeDomain(1000,  # min executor memory\n",
    "                                        28672,  # max executor memory\n",
    "                                        512)))\\\n",
    "    .add_param(Parameter('spark.driver.memory',\n",
    "                         IntRangeDomain(512, 15200, 256))) \\\n",
    "    .add_param(Parameter('spark.executor.cores',\n",
    "                         IntRangeDomain(1, 4, 1)))\n",
    "\n",
    "tuner = SparkTuner(config_set)\n",
    "training_sample_1 = {\n",
    "    \"spark.executor.memory\": 2000,\n",
    "    \"spark.sql.shuffle.partitions\": 400,\n",
    "    \"spark.executor.cores\": 3,\n",
    "    \"spark.driver.memory\": 2000\n",
    "}\n",
    "# training_sample_2 = {\n",
    "#     \"spark.executor.memory\": 4000,\n",
    "#     \"spark.sql.shuffle.partitions\": 600,\n",
    "#     \"spark.executor.cores\": 8,\n",
    "#     \"spark.driver.memory\": 4000\n",
    "# }\n",
    "training_sample_2 = {\n",
    "    \"spark.executor.memory\": 4000,\n",
    "    \"spark.sql.shuffle.partitions\": 600,\n",
    "    \"spark.executor.cores\": 3,\n",
    "    \"spark.driver.memory\": 4000\n",
    "}\n",
    "training_sample_3 = {\n",
    "    \"spark.executor.memory\": 1000,\n",
    "    \"spark.sql.shuffle.partitions\": 100,\n",
    "    \"spark.executor.cores\": 2,\n",
    "    \"spark.driver.memory\": 1000\n",
    "}\n",
    "tuner.add_sample_to_train_data(training_sample_1, 806750)\n",
    "tuner.add_sample_to_train_data(training_sample_2, 1191319)\n",
    "tuner.add_sample_to_train_data(training_sample_3, 1138390)"
   ]
  },
  {
   "cell_type": "code",
   "execution_count": 5,
   "metadata": {},
   "outputs": [
    {
     "data": {
      "text/plain": [
       "OrderedDict([('spark.sql.shuffle.partitions', 1910.0),\n",
       "             ('spark.executor.memory', 10728.0),\n",
       "             ('spark.driver.memory', 10752.0),\n",
       "             ('spark.executor.cores', 4.0)])"
      ]
     },
     "execution_count": 5,
     "metadata": {},
     "output_type": "execute_result"
    }
   ],
   "source": [
    "tuner.get_next_best_config()"
   ]
  },
  {
   "cell_type": "code",
   "execution_count": 6,
   "metadata": {},
   "outputs": [
    {
     "data": {
      "text/plain": [
       "1066135"
      ]
     },
     "execution_count": 6,
     "metadata": {},
     "output_type": "execute_result"
    }
   ],
   "source": [
    "# Output with the predicted config - \n",
    "1066135"
   ]
  },
  {
   "cell_type": "code",
   "execution_count": null,
   "metadata": {},
   "outputs": [
    {
     "name": "stdout",
     "output_type": "stream",
     "text": [
      " 47%|████▋     | 467/1000 [00:12<00:18, 28.88it/s, best loss: ?]"
     ]
    }
   ],
   "source": [
    "from hyperopt import fmin, tpe, hp, Trials\n",
    "import numpy as np\n",
    "import math\n",
    "\n",
    "def minimize_training_loss(params):\n",
    "    try:\n",
    "        # ToDo: Tune each dimension of beta, gamma and theta individually\n",
    "        loss = 0.0\n",
    "#         alpha = params['alpha']\n",
    "#         beta = np.ones((1, tuner.model.config_set.get_size()), float).transpose() * params['beta']\n",
    "#         gamma = np.ones(tuner.model.config_set.get_size(), float) * params['gamma']\n",
    "#         theta = np.ones(tuner.model.config_set.get_size(), float) * params['theta'] * 0.01\n",
    "        alpha = params['alpha']\n",
    "        beta_choice = params['beta']\n",
    "        beta = np.array([[beta_choice['beta1'], beta_choice['beta2'], beta_choice['beta3'], beta_choice['beta4']]])\n",
    "        gamma_choice = params['gamma']\n",
    "        gamma = np.array([[gamma_choice['gamma1'], gamma_choice['gamma2'], gamma_choice['gamma3'], gamma_choice['gamma4']]]).transpose()\n",
    "        theta_choice = params['theta']\n",
    "        theta = np.array([[theta_choice['theta1'], theta_choice['theta2'], theta_choice['theta3'], theta_choice['theta4']]]).transpose()\n",
    "#         gamma = np.ones(tuner.model.config_set.get_size(), float) * params['gamma']\n",
    "#         theta = np.ones(tuner.model.config_set.get_size(), float) * params['theta'] * 0.01\n",
    "\n",
    "        for config_value, actual_out in zip(tuner.model.get_sampled_configs(), tuner.model.training_out):\n",
    "#             out = tuner.model.predict(config_value, alpha, beta, gamma, theta)\n",
    "            mean = tuner.model.get_mean(config_value, beta, gamma, theta)\n",
    "            variance = tuner.model.get_variance(config_value, alpha, gamma, theta)\n",
    "            if variance < 0:\n",
    "                return {'loss': 0, 'status': 'fail'}\n",
    "#             out = tuner.model.get_variance(config_value, alpha, gamma, theta)\n",
    "#             loss = loss + abs(out - actual_out)\n",
    "            loss = loss + abs(tuner.model.best_out - mean)\n",
    "\n",
    "        return {'loss': loss, 'status': 'ok'}\n",
    "    except Exception as e:\n",
    "#         print(e)\n",
    "        return {'loss': 0, 'status': 'fail'}\n",
    "\n",
    "# space={'alpha': hp.uniform('alpha', 0, 1000),\n",
    "#        'beta': hp.uniform('beta', pow(10, 2), pow(10, 7)),\n",
    "#        'gamma': hp.uniform('gamma', 0, 10),\n",
    "#        'theta': hp.uniform('theta', 0, 10),\n",
    "#       }\n",
    "\n",
    "# space={'alpha': hp.uniform('alpha', 0, 10),\n",
    "#        'beta': hp.uniform('beta', 1, 10),\n",
    "#        'gamma': hp.uniform('gamma', 1, 10),\n",
    "#        'theta': hp.uniform('theta', 1, 10),\n",
    "#       }\n",
    "\n",
    "space={'alpha': hp.uniform('alpha', 0, 10),\n",
    "       'beta': hp.choice('beta', [{\n",
    "           'beta1': hp.uniform('beta1', 1, 10),\n",
    "           'beta2': hp.uniform('beta2', 1, 10),\n",
    "           'beta3': hp.uniform('beta3', 1, 10),\n",
    "           'beta4': hp.uniform('beta4', 1, 10)\n",
    "       }]),\n",
    "       'gamma': hp.choice('gamma', [{\n",
    "           'gamma1': hp.uniform('gamma1', 1, 10),\n",
    "           'gamma2': hp.uniform('gamma2', 1, 10),\n",
    "           'gamma3': hp.uniform('gamma3', 1, 10),\n",
    "           'gamma4': hp.uniform('gamma4', 1, 10)\n",
    "       }]),\n",
    "       'theta': hp.choice('theta', [{\n",
    "           'theta1': hp.uniform('theta1', 1, 10),\n",
    "           'theta2': hp.uniform('theta2', 1, 10),\n",
    "           'theta3': hp.uniform('theta3', 1, 10),\n",
    "           'theta4': hp.uniform('theta4', 1, 10)\n",
    "       }]),\n",
    "      }\n",
    "\n",
    "number_of_experiments = 100\n",
    "best = fmin(minimize_training_loss,\n",
    "            space=space,\n",
    "            algo=tpe.suggest,\n",
    "            max_evals=number_of_experiments)"
   ]
  },
  {
   "cell_type": "code",
   "execution_count": 47,
   "metadata": {},
   "outputs": [
    {
     "name": "stdout",
     "output_type": "stream",
     "text": [
      "{'alpha': 6.597183214118218, 'beta': 4.146450677849254, 'gamma': 9.995838685984289, 'theta': 1.0020003126618147}\n"
     ]
    }
   ],
   "source": [
    "print best"
   ]
  },
  {
   "cell_type": "code",
   "execution_count": null,
   "metadata": {},
   "outputs": [],
   "source": []
  },
  {
   "cell_type": "code",
   "execution_count": 45,
   "metadata": {},
   "outputs": [
    {
     "ename": "ValueError",
     "evalue": "math domain error",
     "output_type": "error",
     "traceback": [
      "\u001b[0;31m--------------------------------------------------------------------\u001b[0m",
      "\u001b[0;31mValueError\u001b[0m                         Traceback (most recent call last)",
      "\u001b[0;32m<ipython-input-45-fdbf7112be81>\u001b[0m in \u001b[0;36m<module>\u001b[0;34m()\u001b[0m\n\u001b[1;32m     14\u001b[0m \u001b[0mtuner\u001b[0m\u001b[0;34m.\u001b[0m\u001b[0mmodel\u001b[0m\u001b[0;34m.\u001b[0m\u001b[0mgamma\u001b[0m \u001b[0;34m=\u001b[0m \u001b[0mnp\u001b[0m\u001b[0;34m.\u001b[0m\u001b[0mones\u001b[0m\u001b[0;34m(\u001b[0m\u001b[0mtuner\u001b[0m\u001b[0;34m.\u001b[0m\u001b[0mmodel\u001b[0m\u001b[0;34m.\u001b[0m\u001b[0mconfig_set\u001b[0m\u001b[0;34m.\u001b[0m\u001b[0mget_size\u001b[0m\u001b[0;34m(\u001b[0m\u001b[0;34m)\u001b[0m\u001b[0;34m,\u001b[0m \u001b[0mfloat\u001b[0m\u001b[0;34m)\u001b[0m \u001b[0;34m*\u001b[0m \u001b[0mbest\u001b[0m\u001b[0;34m[\u001b[0m\u001b[0;34m'gamma'\u001b[0m\u001b[0;34m]\u001b[0m\u001b[0;34m\u001b[0m\u001b[0m\n\u001b[1;32m     15\u001b[0m \u001b[0mtuner\u001b[0m\u001b[0;34m.\u001b[0m\u001b[0mmodel\u001b[0m\u001b[0;34m.\u001b[0m\u001b[0mtheta\u001b[0m \u001b[0;34m=\u001b[0m \u001b[0mnp\u001b[0m\u001b[0;34m.\u001b[0m\u001b[0mones\u001b[0m\u001b[0;34m(\u001b[0m\u001b[0mtuner\u001b[0m\u001b[0;34m.\u001b[0m\u001b[0mmodel\u001b[0m\u001b[0;34m.\u001b[0m\u001b[0mconfig_set\u001b[0m\u001b[0;34m.\u001b[0m\u001b[0mget_size\u001b[0m\u001b[0;34m(\u001b[0m\u001b[0;34m)\u001b[0m\u001b[0;34m,\u001b[0m \u001b[0mfloat\u001b[0m\u001b[0;34m)\u001b[0m \u001b[0;34m*\u001b[0m \u001b[0mbest\u001b[0m\u001b[0;34m[\u001b[0m\u001b[0;34m'theta'\u001b[0m\u001b[0;34m]\u001b[0m \u001b[0;34m*\u001b[0m \u001b[0;36m0.01\u001b[0m\u001b[0;34m\u001b[0m\u001b[0m\n\u001b[0;32m---> 16\u001b[0;31m \u001b[0;32mprint\u001b[0m \u001b[0mtuner\u001b[0m\u001b[0;34m.\u001b[0m\u001b[0mget_next_best_config\u001b[0m\u001b[0;34m(\u001b[0m\u001b[0;34m)\u001b[0m\u001b[0;34m\u001b[0m\u001b[0m\n\u001b[0m\u001b[1;32m     17\u001b[0m \u001b[0;31m# tuner.model.alpha = 1.0\u001b[0m\u001b[0;34m\u001b[0m\u001b[0;34m\u001b[0m\u001b[0m\n\u001b[1;32m     18\u001b[0m \u001b[0;31m# tuner.model.beta = np.ones((1, config_set.get_size()), float).transpose()\u001b[0m\u001b[0;34m\u001b[0m\u001b[0;34m\u001b[0m\u001b[0m\n",
      "\u001b[0;32m/Users/mayurb/src/open/uchit/spark/spark_tuner.pyc\u001b[0m in \u001b[0;36mget_next_best_config\u001b[0;34m(self)\u001b[0m\n\u001b[1;32m     20\u001b[0m             \u001b[0mself\u001b[0m\u001b[0;34m.\u001b[0m\u001b[0mmodel\u001b[0m\u001b[0;34m.\u001b[0m\u001b[0mtrain\u001b[0m\u001b[0;34m(\u001b[0m\u001b[0;34m)\u001b[0m\u001b[0;34m\u001b[0m\u001b[0m\n\u001b[1;32m     21\u001b[0m \u001b[0;34m\u001b[0m\u001b[0m\n\u001b[0;32m---> 22\u001b[0;31m         \u001b[0;32mreturn\u001b[0m \u001b[0mself\u001b[0m\u001b[0;34m.\u001b[0m\u001b[0mmodel\u001b[0m\u001b[0;34m.\u001b[0m\u001b[0mget_best_config\u001b[0m\u001b[0;34m(\u001b[0m\u001b[0;34m)\u001b[0m\u001b[0;34m\u001b[0m\u001b[0m\n\u001b[0m\u001b[1;32m     23\u001b[0m \u001b[0;34m\u001b[0m\u001b[0m\n",
      "\u001b[0;32m/Users/mayurb/src/open/uchit/spark/model/gaussian_model.pyc\u001b[0m in \u001b[0;36mget_best_config\u001b[0;34m(self)\u001b[0m\n\u001b[1;32m    103\u001b[0m         \u001b[0;31m# for config in list(itertools.product(*normalized_values)):\u001b[0m\u001b[0;34m\u001b[0m\u001b[0;34m\u001b[0m\u001b[0m\n\u001b[1;32m    104\u001b[0m         \u001b[0;32mfor\u001b[0m \u001b[0mconfig_value\u001b[0m \u001b[0;32min\u001b[0m \u001b[0mnormalized_values\u001b[0m\u001b[0;34m:\u001b[0m\u001b[0;34m\u001b[0m\u001b[0m\n\u001b[0;32m--> 105\u001b[0;31m             \u001b[0mout\u001b[0m \u001b[0;34m=\u001b[0m \u001b[0mself\u001b[0m\u001b[0;34m.\u001b[0m\u001b[0mpredict\u001b[0m\u001b[0;34m(\u001b[0m\u001b[0mconfig_value\u001b[0m\u001b[0;34m,\u001b[0m \u001b[0mself\u001b[0m\u001b[0;34m.\u001b[0m\u001b[0malpha\u001b[0m\u001b[0;34m,\u001b[0m \u001b[0mself\u001b[0m\u001b[0;34m.\u001b[0m\u001b[0mbeta\u001b[0m\u001b[0;34m,\u001b[0m \u001b[0mself\u001b[0m\u001b[0;34m.\u001b[0m\u001b[0mgamma\u001b[0m\u001b[0;34m,\u001b[0m \u001b[0mself\u001b[0m\u001b[0;34m.\u001b[0m\u001b[0mtheta\u001b[0m\u001b[0;34m)\u001b[0m\u001b[0;34m\u001b[0m\u001b[0m\n\u001b[0m\u001b[1;32m    106\u001b[0m             \u001b[0;32mif\u001b[0m \u001b[0mout\u001b[0m \u001b[0;34m<\u001b[0m \u001b[0mbest_out\u001b[0m\u001b[0;34m:\u001b[0m\u001b[0;34m\u001b[0m\u001b[0m\n\u001b[1;32m    107\u001b[0m                 \u001b[0mbest_out\u001b[0m \u001b[0;34m=\u001b[0m \u001b[0mout\u001b[0m\u001b[0;34m\u001b[0m\u001b[0m\n",
      "\u001b[0;32m/Users/mayurb/src/open/uchit/spark/model/gaussian_model.pyc\u001b[0m in \u001b[0;36mpredict\u001b[0;34m(self, config_value, alpha, beta, gamma, theta)\u001b[0m\n\u001b[1;32m    167\u001b[0m \u001b[0;34m\u001b[0m\u001b[0m\n\u001b[1;32m    168\u001b[0m     \u001b[0;32mdef\u001b[0m \u001b[0mpredict\u001b[0m\u001b[0;34m(\u001b[0m\u001b[0mself\u001b[0m\u001b[0;34m,\u001b[0m \u001b[0mconfig_value\u001b[0m\u001b[0;34m,\u001b[0m \u001b[0malpha\u001b[0m\u001b[0;34m,\u001b[0m \u001b[0mbeta\u001b[0m\u001b[0;34m,\u001b[0m \u001b[0mgamma\u001b[0m\u001b[0;34m,\u001b[0m \u001b[0mtheta\u001b[0m\u001b[0;34m)\u001b[0m\u001b[0;34m:\u001b[0m\u001b[0;34m\u001b[0m\u001b[0m\n\u001b[0;32m--> 169\u001b[0;31m         \u001b[0mmu\u001b[0m \u001b[0;34m=\u001b[0m \u001b[0mself\u001b[0m\u001b[0;34m.\u001b[0m\u001b[0mget_mu\u001b[0m\u001b[0;34m(\u001b[0m\u001b[0mconfig_value\u001b[0m\u001b[0;34m,\u001b[0m \u001b[0malpha\u001b[0m\u001b[0;34m,\u001b[0m \u001b[0mbeta\u001b[0m\u001b[0;34m,\u001b[0m \u001b[0mgamma\u001b[0m\u001b[0;34m,\u001b[0m \u001b[0mtheta\u001b[0m\u001b[0;34m)\u001b[0m\u001b[0;34m\u001b[0m\u001b[0m\n\u001b[0m\u001b[1;32m    170\u001b[0m         \u001b[0;32mreturn\u001b[0m \u001b[0mmath\u001b[0m\u001b[0;34m.\u001b[0m\u001b[0msqrt\u001b[0m\u001b[0;34m(\u001b[0m\u001b[0mself\u001b[0m\u001b[0;34m.\u001b[0m\u001b[0mget_variance\u001b[0m\u001b[0;34m(\u001b[0m\u001b[0mconfig_value\u001b[0m\u001b[0;34m,\u001b[0m \u001b[0malpha\u001b[0m\u001b[0;34m,\u001b[0m \u001b[0mgamma\u001b[0m\u001b[0;34m,\u001b[0m \u001b[0mtheta\u001b[0m\u001b[0;34m)\u001b[0m\u001b[0;34m)\u001b[0m \u001b[0;34m*\u001b[0m \u001b[0;34m(\u001b[0m\u001b[0mmu\u001b[0m \u001b[0;34m*\u001b[0m \u001b[0mnorm\u001b[0m\u001b[0;34m.\u001b[0m\u001b[0mcdf\u001b[0m\u001b[0;34m(\u001b[0m\u001b[0mmu\u001b[0m\u001b[0;34m)\u001b[0m \u001b[0;34m+\u001b[0m \u001b[0mnorm\u001b[0m\u001b[0;34m.\u001b[0m\u001b[0mpdf\u001b[0m\u001b[0;34m(\u001b[0m\u001b[0mmu\u001b[0m\u001b[0;34m)\u001b[0m\u001b[0;34m)\u001b[0m\u001b[0;34m\u001b[0m\u001b[0m\n\u001b[1;32m    171\u001b[0m \u001b[0;34m\u001b[0m\u001b[0m\n",
      "\u001b[0;32m/Users/mayurb/src/open/uchit/spark/model/gaussian_model.pyc\u001b[0m in \u001b[0;36mget_mu\u001b[0;34m(self, config_value, alpha, beta, gamma, theta)\u001b[0m\n\u001b[1;32m    164\u001b[0m         \u001b[0;31m# print self.get_variance(config_value, alpha, gamma, theta)\u001b[0m\u001b[0;34m\u001b[0m\u001b[0;34m\u001b[0m\u001b[0m\n\u001b[1;32m    165\u001b[0m         \u001b[0;32mreturn\u001b[0m \u001b[0;34m(\u001b[0m\u001b[0mself\u001b[0m\u001b[0;34m.\u001b[0m\u001b[0mbest_out\u001b[0m \u001b[0;34m-\u001b[0m \u001b[0mself\u001b[0m\u001b[0;34m.\u001b[0m\u001b[0mget_mean\u001b[0m\u001b[0;34m(\u001b[0m\u001b[0mconfig_value\u001b[0m\u001b[0;34m,\u001b[0m \u001b[0mbeta\u001b[0m\u001b[0;34m,\u001b[0m \u001b[0mgamma\u001b[0m\u001b[0;34m,\u001b[0m \u001b[0mtheta\u001b[0m\u001b[0;34m)\u001b[0m\u001b[0;34m)\u001b[0m \u001b[0;34m/\u001b[0m\u001b[0;31m \u001b[0m\u001b[0;31m\\\u001b[0m\u001b[0;34m\u001b[0m\u001b[0m\n\u001b[0;32m--> 166\u001b[0;31m                \u001b[0mmath\u001b[0m\u001b[0;34m.\u001b[0m\u001b[0msqrt\u001b[0m\u001b[0;34m(\u001b[0m\u001b[0mself\u001b[0m\u001b[0;34m.\u001b[0m\u001b[0mget_variance\u001b[0m\u001b[0;34m(\u001b[0m\u001b[0mconfig_value\u001b[0m\u001b[0;34m,\u001b[0m \u001b[0malpha\u001b[0m\u001b[0;34m,\u001b[0m \u001b[0mgamma\u001b[0m\u001b[0;34m,\u001b[0m \u001b[0mtheta\u001b[0m\u001b[0;34m)\u001b[0m\u001b[0;34m)\u001b[0m\u001b[0;34m\u001b[0m\u001b[0m\n\u001b[0m\u001b[1;32m    167\u001b[0m \u001b[0;34m\u001b[0m\u001b[0m\n\u001b[1;32m    168\u001b[0m     \u001b[0;32mdef\u001b[0m \u001b[0mpredict\u001b[0m\u001b[0;34m(\u001b[0m\u001b[0mself\u001b[0m\u001b[0;34m,\u001b[0m \u001b[0mconfig_value\u001b[0m\u001b[0;34m,\u001b[0m \u001b[0malpha\u001b[0m\u001b[0;34m,\u001b[0m \u001b[0mbeta\u001b[0m\u001b[0;34m,\u001b[0m \u001b[0mgamma\u001b[0m\u001b[0;34m,\u001b[0m \u001b[0mtheta\u001b[0m\u001b[0;34m)\u001b[0m\u001b[0;34m:\u001b[0m\u001b[0;34m\u001b[0m\u001b[0m\n",
      "\u001b[0;31mValueError\u001b[0m: math domain error"
     ]
    }
   ],
   "source": [
    "# OrderedDict([('spark.sql.shuffle.partitions', 1910.0),\n",
    "#              ('spark.executor.memory', 10728.0),\n",
    "#              ('spark.driver.memory', 10752.0),\n",
    "#              ('spark.executor.cores', 4.0)])\n",
    "\n",
    "# Actual Output with the predicted config - \n",
    "# 1066135\n",
    "\n",
    "from spark.config.config import Config\n",
    "from spark.config.parameter import Parameter\n",
    "\n",
    "tuner.model.alpha = best['alpha']\n",
    "tuner.model.beta = np.ones((1, config_set.get_size()), float).transpose() * best['beta']\n",
    "tuner.model.gamma = np.ones(tuner.model.config_set.get_size(), float) * best['gamma']\n",
    "tuner.model.theta = np.ones(tuner.model.config_set.get_size(), float) * best['theta'] * 0.01\n",
    "print tuner.get_next_best_config()\n",
    "# tuner.model.alpha = 1.0\n",
    "# tuner.model.beta = np.ones((1, config_set.get_size()), float).transpose()\n",
    "# tuner.model.gamma = np.ones(tuner.model.config_set.get_size(), float)\n",
    "# tuner.model.theta = np.ones(tuner.model.config_set.get_size(), float)\n",
    "config = Config()\n",
    "params = tuner.model.config_set.get_params()\n",
    "for param in params:\n",
    "    if param.get_name() == 'spark.executor.memory':\n",
    "        config.add_param(param, 10728.0)\n",
    "    elif param.get_name() == 'spark.sql.shuffle.partitions':\n",
    "        config.add_param(param, 1910.0)\n",
    "    elif param.get_name() == 'spark.executor.cores':\n",
    "        config.add_param(param, 4.0)\n",
    "    elif param.get_name() == 'spark.driver.memory':\n",
    "        config.add_param(param, 10752.0)\n",
    "\n",
    "config_value = tuner.model.normalizer.normalize_config(config.get_all_param_values())\n",
    "print tuner.model.predict(config_value, tuner.model.alpha, tuner.model.beta, tuner.model.gamma, tuner.model.theta)\n",
    "# print tuner.get_next_best_config()\n"
   ]
  },
  {
   "cell_type": "code",
   "execution_count": 44,
   "metadata": {},
   "outputs": [
    {
     "name": "stdout",
     "output_type": "stream",
     "text": [
      "config_value\n",
      "[0.9743589743589743, 0.35185185185185186, 0.7017543859649122, 1.0]\n",
      ">>>>>>>>>>>>>>>>>>>>>>>>>>>>>>>>>>>>>>>>>>>>>>>>>>>>>>>>>>>>>>>>>>>>>>>>>>>>>>>>\n",
      "training_out\n",
      "[[ 806750.]\n",
      " [1191319.]\n",
      " [1138390.]]\n",
      ">>>>>>>>>>>>>>>>>>>>>>>>>>>>>>>>>>>>>>>>>>>>>>>>>>>>>>>>>>>>>>>>>>>>>>>>>>>>>>>>\n",
      "get_training_pairwise_correlation\n",
      "[[1.         0.99688523 0.99409869]\n",
      " [0.99688523 1.         0.9910023 ]\n",
      " [0.99409869 0.9910023  1.        ]]\n",
      ">>>>>>>>>>>>>>>>>>>>>>>>>>>>>>>>>>>>>>>>>>>>>>>>>>>>>>>>>>>>>>>>>>>>>>>>>>>>>>>>\n",
      "get_correlation_with_train_data\n",
      "[[0.9962611 ]\n",
      " [0.99689036]\n",
      " [0.99791788]]\n",
      ">>>>>>>>>>>>>>>>>>>>>>>>>>>>>>>>>>>>>>>>>>>>>>>>>>>>>>>>>>>>>>>>>>>>>>>>>>>>>>>>\n",
      "get_training_params\n",
      "[[0.8        0.96383102 0.89802632 0.33333333]\n",
      " [0.6974359  0.89149306 0.76096491 0.33333333]\n",
      " [0.95384615 1.         0.96655702 0.66666667]]\n",
      ">>>>>>>>>>>>>>>>>>>>>>>>>>>>>>>>>>>>>>>>>>>>>>>>>>>>>>>>>>>>>>>>>>>>>>>>>>>>>>>>\n",
      "get_mean\n",
      "1251439.8909180947\n",
      ">>>>>>>>>>>>>>>>>>>>>>>>>>>>>>>>>>>>>>>>>>>>>>>>>>>>>>>>>>>>>>>>>>>>>>>>>>>>>>>>\n",
      "get_variance\n",
      "0.018198042971675835\n",
      ">>>>>>>>>>>>>>>>>>>>>>>>>>>>>>>>>>>>>>>>>>>>>>>>>>>>>>>>>>>>>>>>>>>>>>>>>>>>>>>>\n",
      "get_mu\n",
      "[-3296438.01384507]\n",
      ">>>>>>>>>>>>>>>>>>>>>>>>>>>>>>>>>>>>>>>>>>>>>>>>>>>>>>>>>>>>>>>>>>>>>>>>>>>>>>>>\n",
      "cdf\n",
      "[1.]\n",
      ">>>>>>>>>>>>>>>>>>>>>>>>>>>>>>>>>>>>>>>>>>>>>>>>>>>>>>>>>>>>>>>>>>>>>>>>>>>>>>>>\n"
     ]
    }
   ],
   "source": [
    "from scipy.stats import norm\n",
    "print \"config_value\"\n",
    "print config_value\n",
    "print \">>>>>>>>>>>>>>>>>>>>>>>>>>>>>>>>>>>>>>>>>>>>>>>>>>>>>>>>>>>>>>>>>>>>>>>>>>>>>>>>\"\n",
    "print \"training_out\"\n",
    "print tuner.model.training_out\n",
    "print \">>>>>>>>>>>>>>>>>>>>>>>>>>>>>>>>>>>>>>>>>>>>>>>>>>>>>>>>>>>>>>>>>>>>>>>>>>>>>>>>\"\n",
    "print \"get_training_pairwise_correlation\"\n",
    "print tuner.model.get_training_pairwise_correlation(tuner.model.gamma, tuner.model.theta)\n",
    "print \">>>>>>>>>>>>>>>>>>>>>>>>>>>>>>>>>>>>>>>>>>>>>>>>>>>>>>>>>>>>>>>>>>>>>>>>>>>>>>>>\"\n",
    "print \"get_correlation_with_train_data\"\n",
    "print tuner.model.get_correlation_with_train_data(config_value, tuner.model.gamma, tuner.model.theta)\n",
    "print \">>>>>>>>>>>>>>>>>>>>>>>>>>>>>>>>>>>>>>>>>>>>>>>>>>>>>>>>>>>>>>>>>>>>>>>>>>>>>>>>\"\n",
    "print \"get_training_params\"\n",
    "print tuner.model.get_training_params()\n",
    "print \">>>>>>>>>>>>>>>>>>>>>>>>>>>>>>>>>>>>>>>>>>>>>>>>>>>>>>>>>>>>>>>>>>>>>>>>>>>>>>>>\"\n",
    "print \"get_mean\"\n",
    "print tuner.model.get_mean(config_value, tuner.model.beta, tuner.model.gamma, tuner.model.theta)\n",
    "print \">>>>>>>>>>>>>>>>>>>>>>>>>>>>>>>>>>>>>>>>>>>>>>>>>>>>>>>>>>>>>>>>>>>>>>>>>>>>>>>>\"\n",
    "print \"get_variance\"\n",
    "print tuner.model.get_variance(config_value, tuner.model.alpha, tuner.model.gamma, tuner.model.theta)\n",
    "print \">>>>>>>>>>>>>>>>>>>>>>>>>>>>>>>>>>>>>>>>>>>>>>>>>>>>>>>>>>>>>>>>>>>>>>>>>>>>>>>>\"\n",
    "print \"get_mu\"\n",
    "print tuner.model.get_mu(config_value, tuner.model.alpha, tuner.model.beta, tuner.model.gamma, tuner.model.theta)\n",
    "print \">>>>>>>>>>>>>>>>>>>>>>>>>>>>>>>>>>>>>>>>>>>>>>>>>>>>>>>>>>>>>>>>>>>>>>>>>>>>>>>>\"\n",
    "print \"cdf\"\n",
    "print norm.cdf(tuner.model.get_mu(config_value, tuner.model.alpha, tuner.model.beta, tuner.model.gamma, tuner.model.theta) * -1)\n",
    "print \">>>>>>>>>>>>>>>>>>>>>>>>>>>>>>>>>>>>>>>>>>>>>>>>>>>>>>>>>>>>>>>>>>>>>>>>>>>>>>>>\""
   ]
  },
  {
   "cell_type": "code",
   "execution_count": 30,
   "metadata": {},
   "outputs": [
    {
     "name": "stdout",
     "output_type": "stream",
     "text": [
      "0.15865525393145707\n",
      "0.05399096651318806\n"
     ]
    }
   ],
   "source": [
    "print norm.cdf(-1)\n",
    "print norm.pdf(-2)"
   ]
  },
  {
   "cell_type": "code",
   "execution_count": 35,
   "metadata": {},
   "outputs": [
    {
     "name": "stdout",
     "output_type": "stream",
     "text": [
      "[[-0.01606481  0.50916356  0.5112562 ]]\n",
      "[[1.00419232]]\n"
     ]
    }
   ],
   "source": [
    "corr_with_train_data = tuner.model.get_correlation_with_train_data(config_value, tuner.model.gamma, tuner.model.theta)\n",
    "corr_pairwise_train_data = tuner.model.get_training_pairwise_correlation(tuner.model.gamma, tuner.model.theta)\n",
    "term1 = np.dot(corr_with_train_data.transpose(), np.linalg.inv(corr_pairwise_train_data))\n",
    "print term1\n",
    "term2 = np.dot(term1, corr_with_train_data)\n",
    "print term2\n",
    "# term3 = 1 - term2\n",
    "# return np.linalg.det(pow(alpha, 2) * term3)\n"
   ]
  },
  {
   "cell_type": "code",
   "execution_count": null,
   "metadata": {},
   "outputs": [],
   "source": []
  }
 ],
 "metadata": {
  "kernelspec": {
   "display_name": "Python 2",
   "language": "python",
   "name": "python2"
  },
  "language_info": {
   "codemirror_mode": {
    "name": "ipython",
    "version": 2
   },
   "file_extension": ".py",
   "mimetype": "text/x-python",
   "name": "python",
   "nbconvert_exporter": "python",
   "pygments_lexer": "ipython2",
   "version": "2.7.10"
  }
 },
 "nbformat": 4,
 "nbformat_minor": 2
}
