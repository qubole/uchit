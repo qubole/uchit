{
 "cells": [
  {
   "cell_type": "code",
   "execution_count": 22,
   "metadata": {},
   "outputs": [],
   "source": [
    "from spark.spark_tuner import SparkTuner\n",
    "from spark.config.config_set import UniversalConfigSet\n",
    "from spark.config.config_set import ConfigSet\n",
    "from spark.config.parameter import Parameter\n",
    "from spark.config.domain import IntRangeDomain"
   ]
  },
  {
   "cell_type": "code",
   "execution_count": 10,
   "metadata": {},
   "outputs": [
    {
     "data": {
      "text/plain": [
       "OrderedDict([('spark.sql.shuffle.partitions', 1610.0),\n",
       "             ('spark.executor.memory', 9113.0),\n",
       "             ('spark.driver.memory', 1024.0),\n",
       "             ('spark.executor.cores', 7.0)])"
      ]
     },
     "execution_count": 10,
     "metadata": {},
     "output_type": "execute_result"
    }
   ],
   "source": [
    "config_set = UniversalConfigSet(10, 1024 * 10)\n",
    "tuner = SparkTuner(config_set)\n",
    "\n",
    "training_sample_1 = {\n",
    "    \"spark.executor.memory\": 1024 * 5,\n",
    "    \"spark.sql.shuffle.partitions\": 100,\n",
    "    \"spark.executor.cores\": 4,\n",
    "    \"spark.driver.memory\": 1024\n",
    "}\n",
    "training_sample_2 = {\n",
    "    \"spark.executor.memory\": 1024 * 10,\n",
    "    \"spark.sql.shuffle.partitions\": 400,\n",
    "    \"spark.executor.cores\": 8,\n",
    "    \"spark.driver.memory\": 1024 * 3\n",
    "}\n",
    "\n",
    "tuner.add_sample_to_train_data(training_sample_1, 12)\n",
    "tuner.add_sample_to_train_data(training_sample_2, 4)\n",
    "\n",
    "tuner.get_next_best_config()\n"
   ]
  },
  {
   "cell_type": "code",
   "execution_count": null,
   "metadata": {},
   "outputs": [],
   "source": []
  },
  {
   "cell_type": "markdown",
   "metadata": {},
   "source": [
    "### Example with TPC-DS Q17\n",
    "\n",
    "\n",
    "|conf|value|\n",
    "|:-|:-|\n",
    "|spark.driver.memory|2g|\n",
    "|spark.executor.cores|3|\n",
    "|spark.executor.memory|2g|\n",
    "|spark.sql.shuffle.partitions|400|\n",
    "\n",
    "\n",
    "<h5 align=\"center\">Timing for the query: q17 - 806750 </h5>\n",
    "\n",
    "================================================================================================================================================\n",
    "<br>\n",
    "\n",
    "\n",
    "|conf|value|\n",
    "|:-|:-|\n",
    "|spark.driver.memory|4g|\n",
    "|spark.executor.cores|8|\n",
    "|spark.executor.memory|5g|\n",
    "|spark.sql.shuffle.partitions|600|\n",
    "\n",
    "\n",
    "<h4 align=\"center\">Timing for the query: q17 - 1191319 </h4> \n",
    "\n",
    "================================================================================================================================================\n",
    "<br>\n",
    "\n",
    "\n",
    "|conf|value|\n",
    "|:-|:-|\n",
    "|spark.driver.memory|1g|\n",
    "|spark.executor.cores|2|\n",
    "|spark.executor.memory|2g|\n",
    "|spark.sql.shuffle.partitions|100|\n",
    "\n",
    "\n",
    "<h4 align=\"center\">Timing for the query: q17 - 1138390 </h4> \n"
   ]
  },
  {
   "cell_type": "code",
   "execution_count": 19,
   "metadata": {},
   "outputs": [],
   "source": [
    "# config_set = UniversalConfigSet(20, 152500)\n",
    "config_set = ConfigSet()\n",
    "config_set.add_param(Parameter('spark.sql.shuffle.partitions', IntRangeDomain(10, 2000, 50)))\\\n",
    "    .add_param(Parameter('spark.executor.memory',\n",
    "                         IntRangeDomain(1000,  # min executor memory\n",
    "                                        28672,  # max executor memory\n",
    "                                        512)))\\\n",
    "    .add_param(Parameter('spark.driver.memory',\n",
    "                         IntRangeDomain(512, 15200, 256))) \\\n",
    "    .add_param(Parameter('spark.executor.cores',\n",
    "                         IntRangeDomain(1, 4, 1)))\n",
    "\n",
    "tuner = SparkTuner(config_set)\n",
    "training_sample_1 = {\n",
    "    \"spark.executor.memory\": 2000,\n",
    "    \"spark.sql.shuffle.partitions\": 400,\n",
    "    \"spark.executor.cores\": 3,\n",
    "    \"spark.driver.memory\": 2000\n",
    "}\n",
    "training_sample_2 = {\n",
    "    \"spark.executor.memory\": 4000,\n",
    "    \"spark.sql.shuffle.partitions\": 600,\n",
    "    \"spark.executor.cores\": 8,\n",
    "    \"spark.driver.memory\": 4000\n",
    "}\n",
    "training_sample_3 = {\n",
    "    \"spark.executor.memory\": 1000,\n",
    "    \"spark.sql.shuffle.partitions\": 100,\n",
    "    \"spark.executor.cores\": 2,\n",
    "    \"spark.driver.memory\": 1000\n",
    "}\n",
    "tuner.add_sample_to_train_data(training_sample_1, 806750)\n",
    "tuner.add_sample_to_train_data(training_sample_2, 1191319)\n",
    "tuner.add_sample_to_train_data(training_sample_3, 1138390)"
   ]
  },
  {
   "cell_type": "code",
   "execution_count": 20,
   "metadata": {},
   "outputs": [
    {
     "data": {
      "text/plain": [
       "OrderedDict([('spark.sql.shuffle.partitions', 1910.0),\n",
       "             ('spark.executor.memory', 10728.0),\n",
       "             ('spark.driver.memory', 10752.0),\n",
       "             ('spark.executor.cores', 4.0)])"
      ]
     },
     "execution_count": 20,
     "metadata": {},
     "output_type": "execute_result"
    }
   ],
   "source": [
    "tuner.get_next_best_config()"
   ]
  },
  {
   "cell_type": "code",
   "execution_count": 24,
   "metadata": {},
   "outputs": [
    {
     "data": {
      "text/plain": [
       "1066135"
      ]
     },
     "execution_count": 24,
     "metadata": {},
     "output_type": "execute_result"
    }
   ],
   "source": [
    "# Output with the predicted config - \n",
    "1066135"
   ]
  },
  {
   "cell_type": "code",
   "execution_count": null,
   "metadata": {},
   "outputs": [],
   "source": []
  }
 ],
 "metadata": {
  "kernelspec": {
   "display_name": "Python 2",
   "language": "python",
   "name": "python2"
  },
  "language_info": {
   "codemirror_mode": {
    "name": "ipython",
    "version": 2
   },
   "file_extension": ".py",
   "mimetype": "text/x-python",
   "name": "python",
   "nbconvert_exporter": "python",
   "pygments_lexer": "ipython2",
   "version": "2.7.10"
  }
 },
 "nbformat": 4,
 "nbformat_minor": 2
}
